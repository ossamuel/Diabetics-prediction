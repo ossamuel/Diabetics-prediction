{
 "cells": [
  {
   "cell_type": "markdown",
   "metadata": {},
   "source": [
    "#            DIABETICS PREDICTION USING LOGISTIC REGRESSION \n",
    "                        PREDICTING WHETHER A PERSON HAS DIABETES OR NOT \n",
    "\t\n",
    "  "
   ]
  },
  {
   "cell_type": "markdown",
   "metadata": {},
   "source": [
    "# Framing the Problem\n",
    "\n",
    "The objective is to Predict whether a person has diabetes or not based on a number of labels or features: \n",
    "this includes: \n",
    "        \n",
    "        Pregnancy : number of times pregnant\n",
    "\t        \n",
    "        Glucose: glucose level\n",
    "\t\t\n",
    "        Blood Pressure:  Diastolic blood pressure (mm Hg)\n",
    "\t\t\n",
    "        Skin Thickness:  Triceps skin fold thickness (mm)\n",
    "\t\t\n",
    "        Insulin: 2-Hour serum insulin (mu U/ml)\n",
    "\t\t\n",
    "        BMI: Body Mass Index\n",
    "\t\t\n",
    "        Diabetes Pedigree Function (DBF): A function that scores the likehood of diabetes based on family history\n",
    "\t\t\n",
    "        Age: individual Age (years)\n",
    "\t\t\n",
    "        Outcome: 0 = healthy individual, 1 = Diabetic individual\n",
    "This will involve the use of a supervised learning model (linear regression e.t.c). \n",
    "\n",
    "It is a regression task as our objective is to predict the outcome label ( 1 or 0).\n",
    "\n",
    "Furthermore, it will use Batch Learning as it the model will be trained on all our current available data."
   ]
  },
  {
   "cell_type": "markdown",
   "metadata": {},
   "source": [
    "# Getting the Data\n",
    "\n",
    "we will be using a kaggle dataset that was madee available by National Institute of Diabetes \n",
    "\n",
    "and Digestive and Kidney Diseases” as part of the Pima Indians Diabetes Database.\n",
    "\n",
    "steps to be done:\n",
    "\n",
    "          (a) Convert the data to a format you can easily manipulate (ex: changing to all numerical)\n",
    "\t\t  (b) Check the size and type of data (time series, sample).\n",
    "\t\t  (C) Sample a test set, put it aside. "
   ]
  },
  {
   "cell_type": "markdown",
   "metadata": {},
   "source": [
    "Data is all Numerical - so we can move to the next step"
   ]
  },
  {
   "cell_type": "markdown",
   "metadata": {},
   "source": [
    "# Explore the data: \n",
    "\n",
    "in this step we will try to get meaningful insight into our data any correlation between attributes \n",
    "\n",
    "steps to be done: \n",
    "\n",
    "          (a): Study each attribute and its characteristics ( this includes the Name, Type(int/ float, text, structured)\n",
    "\t\t  and identify correlation between attributes \n",
    "          \n",
    "\t\t  (b): check the % of missing values in data\n",
    "\n",
    "\t\t  (c): we Study how we would solve this problem manually.\n",
    "\t\t  (d): Identify extra data that would be useful (maybe in improving model performance)\n",
    "\n",
    "\t\t  (e): we are going to outline the usefulness of the task/steps done above\n",
    "\t\t  (f): Document what you have learned from Data exploration"
   ]
  },
  {
   "cell_type": "markdown",
   "metadata": {},
   "source": [
    "# DATA PREPARATION:\n",
    "\tIn this step we get the data ready for machine learning \n",
    "    \n",
    "    steps to be done: \n",
    "\t\n",
    "    1. Data cleaning:\n",
    "\t\tFix or remove outliers (optional).\n",
    "\t\tFill in missing values (e.g., with zero, mean, median…) or drop their rows (or\n",
    "\t\tcolumns)\n",
    "\t2. Feature selection (optional):\n",
    "\t\tDrop the attributes that provide no useful information for the task.\n",
    "\n",
    "\t3. Feature engineering, where appropriate:\n",
    "\t\tDiscretize continuous features.\n",
    "\n",
    "\t\tDecompose features (e.g., categorical, date/time, etc.).\n",
    "\t\tAdd promising transformations of features (e.g., log(x), sqrt(x), x^2, etc.).\n",
    "\t\tAggregate features into promising new features.\n",
    "\n",
    "\t4. Feature scaling:\n",
    "\t\tStandardize or normalize features."
   ]
  },
  {
   "cell_type": "markdown",
   "metadata": {},
   "source": [
    "# Shortlisting Promising Models\n",
    "\n",
    "Steps to be done:\n",
    "\n",
    "\t(1). splitting up out training and test data and applying various models\n",
    "\n",
    "\t(2). Performance Measure\n",
    "\t\tFor Perfomance measure it depends on the data - but we consider both\n",
    "\t\t(a): MAE (Mean absolute Error)\n",
    "\t\t(b): RMSE ( Root MEan square Error)\n",
    "\t(3). Analyze the most significant variables for each algorithm.\n",
    "\n",
    "\t(4). Analyze the types of errors the models make and What data would a human have used to avoid these errors?\n",
    "\n",
    "\t(5). Perform a quick round of feature selection and engineering.\n",
    "\n",
    "\t(6). Perform one or two more quick iterations of the five previous steps.\n",
    "\n",
    "\t(7). Shortlist the top three to five most promising models, preferring models that\n",
    "\tmake different types of errors."
   ]
  },
  {
   "cell_type": "markdown",
   "metadata": {},
   "source": [
    "# FINE TUNING SYSTEM\n",
    "\t\n"
   ]
  },
  {
   "cell_type": "markdown",
   "metadata": {},
   "source": [
    "# PRESENT SOLUTION:\n",
    "\n",
    "\tIn this step we are going to document what we have done, describing what worked and what did not, and system limitations"
   ]
  },
  {
   "cell_type": "code",
   "execution_count": null,
   "metadata": {},
   "outputs": [],
   "source": []
  }
 ],
 "metadata": {
  "kernelspec": {
   "display_name": "Python 3",
   "language": "python",
   "name": "python3"
  },
  "language_info": {
   "codemirror_mode": {
    "name": "ipython",
    "version": 3
   },
   "file_extension": ".py",
   "mimetype": "text/x-python",
   "name": "python",
   "nbconvert_exporter": "python",
   "pygments_lexer": "ipython3",
   "version": "3.8.5"
  }
 },
 "nbformat": 4,
 "nbformat_minor": 4
}
